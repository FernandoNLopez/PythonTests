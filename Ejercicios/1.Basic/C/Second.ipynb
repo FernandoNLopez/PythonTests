{
 "cells": [
  {
   "cell_type": "code",
   "execution_count": 4,
   "id": "f7d6f56b",
   "metadata": {},
   "outputs": [],
   "source": [
    "import pandas as pd"
   ]
  },
  {
   "cell_type": "code",
   "execution_count": 8,
   "id": "26a7a9a7",
   "metadata": {},
   "outputs": [],
   "source": [
    "#leer archivo csv\n",
    "df_players = pd.read_csv(\"players_20 (1).csv\")\n",
    "#fijar index\n",
    "df_players.set_index('short_name', inplace=True)\n",
    "#seleccionamos columnas\n",
    "df_players = df_players[['long_name', 'age', 'dob', 'height_cm', 'weight_kg', 'nationality', 'club']]"
   ]
  },
  {
   "cell_type": "code",
   "execution_count": 9,
   "id": "e8456abf",
   "metadata": {},
   "outputs": [
    {
     "data": {
      "text/html": [
       "<div>\n",
       "<style scoped>\n",
       "    .dataframe tbody tr th:only-of-type {\n",
       "        vertical-align: middle;\n",
       "    }\n",
       "\n",
       "    .dataframe tbody tr th {\n",
       "        vertical-align: top;\n",
       "    }\n",
       "\n",
       "    .dataframe thead th {\n",
       "        text-align: right;\n",
       "    }\n",
       "</style>\n",
       "<table border=\"1\" class=\"dataframe\">\n",
       "  <thead>\n",
       "    <tr style=\"text-align: right;\">\n",
       "      <th></th>\n",
       "      <th>long_name</th>\n",
       "      <th>age</th>\n",
       "      <th>dob</th>\n",
       "      <th>height_cm</th>\n",
       "      <th>weight_kg</th>\n",
       "      <th>nationality</th>\n",
       "      <th>club</th>\n",
       "    </tr>\n",
       "    <tr>\n",
       "      <th>short_name</th>\n",
       "      <th></th>\n",
       "      <th></th>\n",
       "      <th></th>\n",
       "      <th></th>\n",
       "      <th></th>\n",
       "      <th></th>\n",
       "      <th></th>\n",
       "    </tr>\n",
       "  </thead>\n",
       "  <tbody>\n",
       "    <tr>\n",
       "      <th>L. Messi</th>\n",
       "      <td>Lionel Andrés Messi Cuccittini</td>\n",
       "      <td>32</td>\n",
       "      <td>1987-06-24</td>\n",
       "      <td>170</td>\n",
       "      <td>72</td>\n",
       "      <td>Argentina</td>\n",
       "      <td>FC Barcelona</td>\n",
       "    </tr>\n",
       "    <tr>\n",
       "      <th>Cristiano Ronaldo</th>\n",
       "      <td>Cristiano Ronaldo dos Santos Aveiro</td>\n",
       "      <td>34</td>\n",
       "      <td>1985-02-05</td>\n",
       "      <td>187</td>\n",
       "      <td>83</td>\n",
       "      <td>Portugal</td>\n",
       "      <td>Juventus</td>\n",
       "    </tr>\n",
       "    <tr>\n",
       "      <th>Neymar Jr</th>\n",
       "      <td>Neymar da Silva Santos Junior</td>\n",
       "      <td>27</td>\n",
       "      <td>1992-02-05</td>\n",
       "      <td>175</td>\n",
       "      <td>68</td>\n",
       "      <td>Brazil</td>\n",
       "      <td>Paris Saint-Germain</td>\n",
       "    </tr>\n",
       "    <tr>\n",
       "      <th>J. Oblak</th>\n",
       "      <td>Jan Oblak</td>\n",
       "      <td>26</td>\n",
       "      <td>1993-01-07</td>\n",
       "      <td>188</td>\n",
       "      <td>87</td>\n",
       "      <td>Slovenia</td>\n",
       "      <td>Atlético Madrid</td>\n",
       "    </tr>\n",
       "    <tr>\n",
       "      <th>E. Hazard</th>\n",
       "      <td>Eden Hazard</td>\n",
       "      <td>28</td>\n",
       "      <td>1991-01-07</td>\n",
       "      <td>175</td>\n",
       "      <td>74</td>\n",
       "      <td>Belgium</td>\n",
       "      <td>Real Madrid</td>\n",
       "    </tr>\n",
       "    <tr>\n",
       "      <th>...</th>\n",
       "      <td>...</td>\n",
       "      <td>...</td>\n",
       "      <td>...</td>\n",
       "      <td>...</td>\n",
       "      <td>...</td>\n",
       "      <td>...</td>\n",
       "      <td>...</td>\n",
       "    </tr>\n",
       "    <tr>\n",
       "      <th>Shao Shuai</th>\n",
       "      <td>邵帅</td>\n",
       "      <td>22</td>\n",
       "      <td>1997-03-10</td>\n",
       "      <td>186</td>\n",
       "      <td>79</td>\n",
       "      <td>China PR</td>\n",
       "      <td>Beijing Renhe FC</td>\n",
       "    </tr>\n",
       "    <tr>\n",
       "      <th>Xiao Mingjie</th>\n",
       "      <td>Mingjie Xiao</td>\n",
       "      <td>22</td>\n",
       "      <td>1997-01-01</td>\n",
       "      <td>177</td>\n",
       "      <td>66</td>\n",
       "      <td>China PR</td>\n",
       "      <td>Shanghai SIPG FC</td>\n",
       "    </tr>\n",
       "    <tr>\n",
       "      <th>Zhang Wei</th>\n",
       "      <td>张威</td>\n",
       "      <td>19</td>\n",
       "      <td>2000-05-16</td>\n",
       "      <td>186</td>\n",
       "      <td>75</td>\n",
       "      <td>China PR</td>\n",
       "      <td>Hebei China Fortune FC</td>\n",
       "    </tr>\n",
       "    <tr>\n",
       "      <th>Wang Haijian</th>\n",
       "      <td>汪海健</td>\n",
       "      <td>18</td>\n",
       "      <td>2000-08-02</td>\n",
       "      <td>185</td>\n",
       "      <td>74</td>\n",
       "      <td>China PR</td>\n",
       "      <td>Shanghai Greenland Shenhua FC</td>\n",
       "    </tr>\n",
       "    <tr>\n",
       "      <th>Pan Ximing</th>\n",
       "      <td>潘喜明</td>\n",
       "      <td>26</td>\n",
       "      <td>1993-01-11</td>\n",
       "      <td>182</td>\n",
       "      <td>78</td>\n",
       "      <td>China PR</td>\n",
       "      <td>Hebei China Fortune FC</td>\n",
       "    </tr>\n",
       "  </tbody>\n",
       "</table>\n",
       "<p>18278 rows × 7 columns</p>\n",
       "</div>"
      ],
      "text/plain": [
       "                                             long_name  age         dob  \\\n",
       "short_name                                                                \n",
       "L. Messi                Lionel Andrés Messi Cuccittini   32  1987-06-24   \n",
       "Cristiano Ronaldo  Cristiano Ronaldo dos Santos Aveiro   34  1985-02-05   \n",
       "Neymar Jr                Neymar da Silva Santos Junior   27  1992-02-05   \n",
       "J. Oblak                                     Jan Oblak   26  1993-01-07   \n",
       "E. Hazard                                  Eden Hazard   28  1991-01-07   \n",
       "...                                                ...  ...         ...   \n",
       "Shao Shuai                                          邵帅   22  1997-03-10   \n",
       "Xiao Mingjie                              Mingjie Xiao   22  1997-01-01   \n",
       "Zhang Wei                                           张威   19  2000-05-16   \n",
       "Wang Haijian                                       汪海健   18  2000-08-02   \n",
       "Pan Ximing                                         潘喜明   26  1993-01-11   \n",
       "\n",
       "                   height_cm  weight_kg nationality  \\\n",
       "short_name                                            \n",
       "L. Messi                 170         72   Argentina   \n",
       "Cristiano Ronaldo        187         83    Portugal   \n",
       "Neymar Jr                175         68      Brazil   \n",
       "J. Oblak                 188         87    Slovenia   \n",
       "E. Hazard                175         74     Belgium   \n",
       "...                      ...        ...         ...   \n",
       "Shao Shuai               186         79    China PR   \n",
       "Xiao Mingjie             177         66    China PR   \n",
       "Zhang Wei                186         75    China PR   \n",
       "Wang Haijian             185         74    China PR   \n",
       "Pan Ximing               182         78    China PR   \n",
       "\n",
       "                                            club  \n",
       "short_name                                        \n",
       "L. Messi                            FC Barcelona  \n",
       "Cristiano Ronaldo                       Juventus  \n",
       "Neymar Jr                    Paris Saint-Germain  \n",
       "J. Oblak                         Atlético Madrid  \n",
       "E. Hazard                            Real Madrid  \n",
       "...                                          ...  \n",
       "Shao Shuai                      Beijing Renhe FC  \n",
       "Xiao Mingjie                    Shanghai SIPG FC  \n",
       "Zhang Wei                 Hebei China Fortune FC  \n",
       "Wang Haijian       Shanghai Greenland Shenhua FC  \n",
       "Pan Ximing                Hebei China Fortune FC  \n",
       "\n",
       "[18278 rows x 7 columns]"
      ]
     },
     "execution_count": 9,
     "metadata": {},
     "output_type": "execute_result"
    }
   ],
   "source": [
    "df_players"
   ]
  },
  {
   "cell_type": "markdown",
   "id": "345bd69e",
   "metadata": {},
   "source": [
    "                                FUNCION LAMBDA"
   ]
  },
  {
   "cell_type": "code",
   "execution_count": 10,
   "id": "137c60e8",
   "metadata": {},
   "outputs": [],
   "source": [
    "#sintax funcion basica\n",
    "def sum_values(a,b):\n",
    "    x = a+b\n",
    "    return x"
   ]
  },
  {
   "cell_type": "code",
   "execution_count": 11,
   "id": "993b5dfd",
   "metadata": {},
   "outputs": [
    {
     "data": {
      "text/plain": [
       "4"
      ]
     },
     "execution_count": 11,
     "metadata": {},
     "output_type": "execute_result"
    }
   ],
   "source": [
    "sum_values(2, 2)"
   ]
  },
  {
   "cell_type": "code",
   "execution_count": 12,
   "id": "bf408406",
   "metadata": {},
   "outputs": [],
   "source": [
    "#sintax funcion lambda\n",
    "sum_lambda = lambda a,b : a+b "
   ]
  },
  {
   "cell_type": "code",
   "execution_count": 13,
   "id": "a7e92dcd",
   "metadata": {},
   "outputs": [
    {
     "data": {
      "text/plain": [
       "2"
      ]
     },
     "execution_count": 13,
     "metadata": {},
     "output_type": "execute_result"
    }
   ],
   "source": [
    "sum_lambda(1,1)"
   ]
  },
  {
   "cell_type": "markdown",
   "id": "4a9a5b22",
   "metadata": {},
   "source": [
    "                                        APPLY + LAMBDA"
   ]
  },
  {
   "cell_type": "code",
   "execution_count": null,
   "id": "8b100351",
   "metadata": {},
   "outputs": [
    {
     "data": {
      "text/plain": [
       "short_name\n",
       "L. Messi             1.70\n",
       "Cristiano Ronaldo    1.87\n",
       "Neymar Jr            1.75\n",
       "J. Oblak             1.88\n",
       "E. Hazard            1.75\n",
       "                     ... \n",
       "Shao Shuai           1.86\n",
       "Xiao Mingjie         1.77\n",
       "Zhang Wei            1.86\n",
       "Wang Haijian         1.85\n",
       "Pan Ximing           1.82\n",
       "Name: height_cm, Length: 18278, dtype: float64"
      ]
     },
     "execution_count": 14,
     "metadata": {},
     "output_type": "execute_result"
    }
   ],
   "source": [
    "#usar funcion lambda para convertir serie \"height_cm\" a metros\n",
    "\n",
    "df_players['height_cm'].apply(lambda x:x/100)\n",
    "\n",
    "#alternativa\n",
    "df_players['height_cm']/100 "
   ]
  },
  {
   "cell_type": "code",
   "execution_count": null,
   "id": "eb479e43",
   "metadata": {},
   "outputs": [
    {
     "data": {
      "text/plain": [
       "short_name\n",
       "L. Messi                  LIONEL ANDRÉS MESSI CUCCITTINI\n",
       "Cristiano Ronaldo    CRISTIANO RONALDO DOS SANTOS AVEIRO\n",
       "Neymar Jr                  NEYMAR DA SILVA SANTOS JUNIOR\n",
       "J. Oblak                                       JAN OBLAK\n",
       "E. Hazard                                    EDEN HAZARD\n",
       "                                    ...                 \n",
       "Shao Shuai                                            邵帅\n",
       "Xiao Mingjie                                MINGJIE XIAO\n",
       "Zhang Wei                                             张威\n",
       "Wang Haijian                                         汪海健\n",
       "Pan Ximing                                           潘喜明\n",
       "Name: long_name, Length: 18278, dtype: object"
      ]
     },
     "execution_count": 15,
     "metadata": {},
     "output_type": "execute_result"
    }
   ],
   "source": [
    "#usar lambda para convertir 'long_name' en UPPERCASE\n",
    "df_players['long_name'].apply(lambda x : x.upper())\n",
    "\n",
    "#alternativa con atributo str\n",
    "df_players['long_name'].str.upper()"
   ]
  },
  {
   "cell_type": "code",
   "execution_count": null,
   "id": "150c066c",
   "metadata": {},
   "outputs": [
    {
     "data": {
      "text/plain": [
       "short_name\n",
       "L. Messi             1987\n",
       "Cristiano Ronaldo    1985\n",
       "Neymar Jr            1992\n",
       "J. Oblak             1993\n",
       "E. Hazard            1991\n",
       "                     ... \n",
       "Shao Shuai           1997\n",
       "Xiao Mingjie         1997\n",
       "Zhang Wei            2000\n",
       "Wang Haijian         2000\n",
       "Pan Ximing           1993\n",
       "Name: dob, Length: 18278, dtype: int64"
      ]
     },
     "execution_count": 17,
     "metadata": {},
     "output_type": "execute_result"
    }
   ],
   "source": [
    "#user lambda para obtener el año de la serie \"dob\"\n",
    "df_players['dob'] = df_players['dob'].astype('datetime64[ns]') #Transformamos el tipo de dato\n",
    "\n",
    "df_players['dob'].apply(lambda x : x.year)\n",
    "\n",
    "\n",
    "#alternativa con atributo dt\n",
    "df_players['dob'].dt.year\n",
    "\n",
    "#alternativa con metodo pandas\n",
    "df_players['dob'] = pd.to_datetime(df_players['dob'])"
   ]
  },
  {
   "cell_type": "code",
   "execution_count": null,
   "id": "7bb928cc",
   "metadata": {},
   "outputs": [
    {
     "data": {
      "text/plain": [
       "short_name\n",
       "L. Messi             24.913495\n",
       "Cristiano Ronaldo    23.735308\n",
       "Neymar Jr            22.204082\n",
       "J. Oblak             24.615211\n",
       "E. Hazard            24.163265\n",
       "                       ...    \n",
       "Shao Shuai           22.835010\n",
       "Xiao Mingjie         21.066743\n",
       "Zhang Wei            21.678807\n",
       "Wang Haijian         21.621622\n",
       "Pan Ximing           23.547881\n",
       "Length: 18278, dtype: float64"
      ]
     },
     "execution_count": 19,
     "metadata": {},
     "output_type": "execute_result"
    }
   ],
   "source": [
    "#aplicar funcion lambda al dataframe para calcular IMC\n",
    "\n",
    "df_players.apply(lambda x : x ['weight_kg'] / ((x['height_cm'] / 100)**2), axis=1)"
   ]
  }
 ],
 "metadata": {
  "kernelspec": {
   "display_name": "Python 3",
   "language": "python",
   "name": "python3"
  },
  "language_info": {
   "codemirror_mode": {
    "name": "ipython",
    "version": 3
   },
   "file_extension": ".py",
   "mimetype": "text/x-python",
   "name": "python",
   "nbconvert_exporter": "python",
   "pygments_lexer": "ipython3",
   "version": "3.13.6"
  }
 },
 "nbformat": 4,
 "nbformat_minor": 5
}
