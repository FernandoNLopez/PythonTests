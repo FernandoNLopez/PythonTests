{
 "cells": [
  {
   "cell_type": "code",
   "execution_count": 21,
   "id": "3c4a58d7",
   "metadata": {},
   "outputs": [],
   "source": [
    "#Crear un array basado en múltiples tamaños de pantalla + condiciones y values\n",
    "import pandas as pd \n",
    "import numpy as np \n",
    "\n",
    "df_laptops = pd.read_csv('../extract/laptop_price.csv', encoding='unicode_escape')"
   ]
  },
  {
   "cell_type": "code",
   "execution_count": 24,
   "id": "dbe53311",
   "metadata": {},
   "outputs": [],
   "source": [
    "condiciones = [ \n",
    "  df_laptops['Inches'] > 16,\n",
    "  (df_laptops['Inches'] > 14) & (df_laptops['Inches'] <= 16),\n",
    "  (df_laptops['Inches'] > 12) & (df_laptops['Inches'] <= 14),\n",
    "  df_laptops['Inches'] <= 12\n",
    "]\n",
    "\n",
    "valores = [\n",
    "    'Muy grande',\n",
    "    'Grande',\n",
    "    'Pequeño',\n",
    "    'Muy Pequeño'\n",
    "]"
   ]
  },
  {
   "cell_type": "markdown",
   "id": "39d2bb20",
   "metadata": {},
   "source": []
  },
  {
   "cell_type": "code",
   "execution_count": 25,
   "id": "cd0d96e4",
   "metadata": {},
   "outputs": [
    {
     "ename": "TypeError",
     "evalue": "Choicelist and default value do not have a common dtype: The DType <class 'numpy.dtypes._PyLongDType'> could not be promoted by <class 'numpy.dtypes.StrDType'>. This means that no common DType exists for the given inputs. For example they cannot be stored in a single array unless the dtype is `object`. The full list of DTypes is: (<class 'numpy.dtypes.StrDType'>, <class 'numpy.dtypes.StrDType'>, <class 'numpy.dtypes.StrDType'>, <class 'numpy.dtypes.StrDType'>, <class 'numpy.dtypes._PyLongDType'>)",
     "output_type": "error",
     "traceback": [
      "\u001b[31m---------------------------------------------------------------------------\u001b[39m",
      "\u001b[31mTypeError\u001b[39m                                 Traceback (most recent call last)",
      "\u001b[36mCell\u001b[39m\u001b[36m \u001b[39m\u001b[32mIn[25]\u001b[39m\u001b[32m, line 2\u001b[39m\n\u001b[32m      1\u001b[39m \u001b[38;5;66;03m#añadir nueva columna\u001b[39;00m\n\u001b[32m----> \u001b[39m\u001b[32m2\u001b[39m df_laptops[\u001b[33m'\u001b[39m\u001b[33mtamaño_pantalla\u001b[39m\u001b[33m'\u001b[39m] = \u001b[43mnp\u001b[49m\u001b[43m.\u001b[49m\u001b[43mselect\u001b[49m\u001b[43m(\u001b[49m\u001b[43mcondiciones\u001b[49m\u001b[43m,\u001b[49m\u001b[43m \u001b[49m\u001b[43mvalores\u001b[49m\u001b[43m)\u001b[49m\n",
      "\u001b[36mFile \u001b[39m\u001b[32mc:\\Users\\Seidor\\AppData\\Local\\Programs\\Python\\Python313\\Lib\\site-packages\\numpy\\lib\\_function_base_impl.py:879\u001b[39m, in \u001b[36mselect\u001b[39m\u001b[34m(condlist, choicelist, default)\u001b[39m\n\u001b[32m    877\u001b[39m \u001b[38;5;28;01mexcept\u001b[39;00m \u001b[38;5;167;01mTypeError\u001b[39;00m \u001b[38;5;28;01mas\u001b[39;00m e:\n\u001b[32m    878\u001b[39m     msg = \u001b[33mf\u001b[39m\u001b[33m'\u001b[39m\u001b[33mChoicelist and default value do not have a common dtype: \u001b[39m\u001b[38;5;132;01m{\u001b[39;00me\u001b[38;5;132;01m}\u001b[39;00m\u001b[33m'\u001b[39m\n\u001b[32m--> \u001b[39m\u001b[32m879\u001b[39m     \u001b[38;5;28;01mraise\u001b[39;00m \u001b[38;5;167;01mTypeError\u001b[39;00m(msg) \u001b[38;5;28;01mfrom\u001b[39;00m\u001b[38;5;250m \u001b[39m\u001b[38;5;28;01mNone\u001b[39;00m\n\u001b[32m    881\u001b[39m \u001b[38;5;66;03m# Convert conditions to arrays and broadcast conditions and choices\u001b[39;00m\n\u001b[32m    882\u001b[39m \u001b[38;5;66;03m# as the shape is needed for the result. Doing it separately optimizes\u001b[39;00m\n\u001b[32m    883\u001b[39m \u001b[38;5;66;03m# for example when all choices are scalars.\u001b[39;00m\n\u001b[32m    884\u001b[39m condlist = np.broadcast_arrays(*condlist)\n",
      "\u001b[31mTypeError\u001b[39m: Choicelist and default value do not have a common dtype: The DType <class 'numpy.dtypes._PyLongDType'> could not be promoted by <class 'numpy.dtypes.StrDType'>. This means that no common DType exists for the given inputs. For example they cannot be stored in a single array unless the dtype is `object`. The full list of DTypes is: (<class 'numpy.dtypes.StrDType'>, <class 'numpy.dtypes.StrDType'>, <class 'numpy.dtypes.StrDType'>, <class 'numpy.dtypes.StrDType'>, <class 'numpy.dtypes._PyLongDType'>)"
     ]
    }
   ],
   "source": [
    "#añadir nueva columna\n",
    "df_laptops['tamaño_pantalla'] = np.select(condiciones, valores)"
   ]
  }
 ],
 "metadata": {
  "kernelspec": {
   "display_name": "Python 3",
   "language": "python",
   "name": "python3"
  },
  "language_info": {
   "codemirror_mode": {
    "name": "ipython",
    "version": 3
   },
   "file_extension": ".py",
   "mimetype": "text/x-python",
   "name": "python",
   "nbconvert_exporter": "python",
   "pygments_lexer": "ipython3",
   "version": "3.13.6"
  }
 },
 "nbformat": 4,
 "nbformat_minor": 5
}
