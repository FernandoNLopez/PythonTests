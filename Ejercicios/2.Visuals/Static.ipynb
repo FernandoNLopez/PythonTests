{
 "cells": [
  {
   "cell_type": "code",
   "execution_count": 3,
   "id": "52f3203b",
   "metadata": {},
   "outputs": [
    {
     "data": {
      "text/html": [
       "        <script type=\"text/javascript\">\n",
       "        window.PlotlyConfig = {MathJaxConfig: 'local'};\n",
       "        if (window.MathJax && window.MathJax.Hub && window.MathJax.Hub.Config) {window.MathJax.Hub.Config({SVG: {font: \"STIX-Web\"}});}\n",
       "        </script>\n",
       "        <script type=\"module\">import \"https://cdn.plot.ly/plotly-3.1.1.min\"</script>\n",
       "        "
      ]
     },
     "metadata": {},
     "output_type": "display_data"
    }
   ],
   "source": [
    "import cufflinks as cf \n",
    "from IPython.display import display, HTML\n",
    "import pandas as pd"
   ]
  },
  {
   "cell_type": "code",
   "execution_count": 4,
   "id": "cf113545",
   "metadata": {},
   "outputs": [
    {
     "data": {
      "text/html": [
       "        <script type=\"text/javascript\">\n",
       "        window.PlotlyConfig = {MathJaxConfig: 'local'};\n",
       "        if (window.MathJax && window.MathJax.Hub && window.MathJax.Hub.Config) {window.MathJax.Hub.Config({SVG: {font: \"STIX-Web\"}});}\n",
       "        </script>\n",
       "        <script type=\"module\">import \"https://cdn.plot.ly/plotly-3.1.1.min\"</script>\n",
       "        "
      ]
     },
     "metadata": {},
     "output_type": "display_data"
    }
   ],
   "source": [
    "cf.set_config_file(sharing='public', theme='ggplot', offline=True)"
   ]
  },
  {
   "cell_type": "code",
   "execution_count": 5,
   "id": "bd8e26f8",
   "metadata": {},
   "outputs": [
    {
     "data": {
      "text/html": [
       "<div>\n",
       "<style scoped>\n",
       "    .dataframe tbody tr th:only-of-type {\n",
       "        vertical-align: middle;\n",
       "    }\n",
       "\n",
       "    .dataframe tbody tr th {\n",
       "        vertical-align: top;\n",
       "    }\n",
       "\n",
       "    .dataframe thead th {\n",
       "        text-align: right;\n",
       "    }\n",
       "</style>\n",
       "<table border=\"1\" class=\"dataframe\">\n",
       "  <thead>\n",
       "    <tr style=\"text-align: right;\">\n",
       "      <th></th>\n",
       "      <th>country</th>\n",
       "      <th>year</th>\n",
       "      <th>population</th>\n",
       "    </tr>\n",
       "  </thead>\n",
       "  <tbody>\n",
       "    <tr>\n",
       "      <th>0</th>\n",
       "      <td>China</td>\n",
       "      <td>2020.0</td>\n",
       "      <td>1.439324e+09</td>\n",
       "    </tr>\n",
       "    <tr>\n",
       "      <th>1</th>\n",
       "      <td>China</td>\n",
       "      <td>2019.0</td>\n",
       "      <td>1.433784e+09</td>\n",
       "    </tr>\n",
       "    <tr>\n",
       "      <th>2</th>\n",
       "      <td>China</td>\n",
       "      <td>2018.0</td>\n",
       "      <td>1.427648e+09</td>\n",
       "    </tr>\n",
       "    <tr>\n",
       "      <th>3</th>\n",
       "      <td>China</td>\n",
       "      <td>2017.0</td>\n",
       "      <td>1.421022e+09</td>\n",
       "    </tr>\n",
       "    <tr>\n",
       "      <th>4</th>\n",
       "      <td>China</td>\n",
       "      <td>2016.0</td>\n",
       "      <td>1.414049e+09</td>\n",
       "    </tr>\n",
       "    <tr>\n",
       "      <th>...</th>\n",
       "      <td>...</td>\n",
       "      <td>...</td>\n",
       "      <td>...</td>\n",
       "    </tr>\n",
       "    <tr>\n",
       "      <th>4180</th>\n",
       "      <td>United States</td>\n",
       "      <td>1965.0</td>\n",
       "      <td>1.997337e+08</td>\n",
       "    </tr>\n",
       "    <tr>\n",
       "      <th>4181</th>\n",
       "      <td>United States</td>\n",
       "      <td>1960.0</td>\n",
       "      <td>1.867206e+08</td>\n",
       "    </tr>\n",
       "    <tr>\n",
       "      <th>4182</th>\n",
       "      <td>United States</td>\n",
       "      <td>1955.0</td>\n",
       "      <td>1.716853e+08</td>\n",
       "    </tr>\n",
       "    <tr>\n",
       "      <th>4183</th>\n",
       "      <td>India</td>\n",
       "      <td>1960.0</td>\n",
       "      <td>4.505477e+08</td>\n",
       "    </tr>\n",
       "    <tr>\n",
       "      <th>4184</th>\n",
       "      <td>India</td>\n",
       "      <td>1955.0</td>\n",
       "      <td>4.098806e+08</td>\n",
       "    </tr>\n",
       "  </tbody>\n",
       "</table>\n",
       "<p>4185 rows × 3 columns</p>\n",
       "</div>"
      ],
      "text/plain": [
       "            country    year    population\n",
       "0             China  2020.0  1.439324e+09\n",
       "1             China  2019.0  1.433784e+09\n",
       "2             China  2018.0  1.427648e+09\n",
       "3             China  2017.0  1.421022e+09\n",
       "4             China  2016.0  1.414049e+09\n",
       "...             ...     ...           ...\n",
       "4180  United States  1965.0  1.997337e+08\n",
       "4181  United States  1960.0  1.867206e+08\n",
       "4182  United States  1955.0  1.716853e+08\n",
       "4183          India  1960.0  4.505477e+08\n",
       "4184          India  1955.0  4.098806e+08\n",
       "\n",
       "[4185 rows x 3 columns]"
      ]
     },
     "execution_count": 5,
     "metadata": {},
     "output_type": "execute_result"
    }
   ],
   "source": [
    "df_population_raw = pd.read_csv('population_total.csv')\n",
    "df_population_raw"
   ]
  },
  {
   "cell_type": "markdown",
   "id": "f5f3a6ed",
   "metadata": {},
   "source": [
    "**Pivote Table**    The pivot() method returns a reformed data frame that is organized by certain column index/values.                                                  "
   ]
  },
  {
   "cell_type": "code",
   "execution_count": 6,
   "id": "8777e0f4",
   "metadata": {},
   "outputs": [],
   "source": [
    "#delete null values\n",
    "df_population_raw.dropna(inplace=True)"
   ]
  },
  {
   "cell_type": "code",
   "execution_count": 7,
   "id": "306890fa",
   "metadata": {},
   "outputs": [],
   "source": [
    "#make pivot table\n",
    "df_pivot = df_population_raw.pivot_table(\n",
    "    index='year',\n",
    "    columns='country',\n",
    "    values='population'\n",
    ")"
   ]
  },
  {
   "cell_type": "code",
   "execution_count": 8,
   "id": "73a1c5f4",
   "metadata": {},
   "outputs": [],
   "source": [
    "#resize table with a WHERE clause\n",
    "df_pivot = df_pivot[['United States', 'China', 'Brazil', 'Argentina', 'Japan']]"
   ]
  },
  {
   "cell_type": "code",
   "execution_count": 9,
   "id": "62ebac05",
   "metadata": {},
   "outputs": [
    {
     "data": {
      "text/html": [
       "<div>\n",
       "<style scoped>\n",
       "    .dataframe tbody tr th:only-of-type {\n",
       "        vertical-align: middle;\n",
       "    }\n",
       "\n",
       "    .dataframe tbody tr th {\n",
       "        vertical-align: top;\n",
       "    }\n",
       "\n",
       "    .dataframe thead th {\n",
       "        text-align: right;\n",
       "    }\n",
       "</style>\n",
       "<table border=\"1\" class=\"dataframe\">\n",
       "  <thead>\n",
       "    <tr style=\"text-align: right;\">\n",
       "      <th>country</th>\n",
       "      <th>United States</th>\n",
       "      <th>China</th>\n",
       "      <th>Brazil</th>\n",
       "      <th>Argentina</th>\n",
       "      <th>Japan</th>\n",
       "    </tr>\n",
       "    <tr>\n",
       "      <th>year</th>\n",
       "      <th></th>\n",
       "      <th></th>\n",
       "      <th></th>\n",
       "      <th></th>\n",
       "      <th></th>\n",
       "    </tr>\n",
       "  </thead>\n",
       "  <tbody>\n",
       "    <tr>\n",
       "      <th>1955.0</th>\n",
       "      <td>171685336.0</td>\n",
       "      <td>6.122416e+08</td>\n",
       "      <td>62533919.0</td>\n",
       "      <td>18789418.0</td>\n",
       "      <td>89018257.0</td>\n",
       "    </tr>\n",
       "    <tr>\n",
       "      <th>1960.0</th>\n",
       "      <td>186720571.0</td>\n",
       "      <td>6.604081e+08</td>\n",
       "      <td>72179226.0</td>\n",
       "      <td>20481779.0</td>\n",
       "      <td>93673615.0</td>\n",
       "    </tr>\n",
       "    <tr>\n",
       "      <th>1965.0</th>\n",
       "      <td>199733676.0</td>\n",
       "      <td>7.242190e+08</td>\n",
       "      <td>83373530.0</td>\n",
       "      <td>22159650.0</td>\n",
       "      <td>98447002.0</td>\n",
       "    </tr>\n",
       "    <tr>\n",
       "      <th>1970.0</th>\n",
       "      <td>209513341.0</td>\n",
       "      <td>8.276014e+08</td>\n",
       "      <td>95113265.0</td>\n",
       "      <td>23880561.0</td>\n",
       "      <td>104929251.0</td>\n",
       "    </tr>\n",
       "    <tr>\n",
       "      <th>1975.0</th>\n",
       "      <td>219081251.0</td>\n",
       "      <td>9.262409e+08</td>\n",
       "      <td>107216205.0</td>\n",
       "      <td>25865776.0</td>\n",
       "      <td>112413359.0</td>\n",
       "    </tr>\n",
       "    <tr>\n",
       "      <th>1980.0</th>\n",
       "      <td>229476354.0</td>\n",
       "      <td>1.000089e+09</td>\n",
       "      <td>120694009.0</td>\n",
       "      <td>27896528.0</td>\n",
       "      <td>117816940.0</td>\n",
       "    </tr>\n",
       "    <tr>\n",
       "      <th>1985.0</th>\n",
       "      <td>240499825.0</td>\n",
       "      <td>1.075589e+09</td>\n",
       "      <td>135274080.0</td>\n",
       "      <td>30216279.0</td>\n",
       "      <td>121883482.0</td>\n",
       "    </tr>\n",
       "    <tr>\n",
       "      <th>1990.0</th>\n",
       "      <td>252120309.0</td>\n",
       "      <td>1.176884e+09</td>\n",
       "      <td>149003223.0</td>\n",
       "      <td>32618651.0</td>\n",
       "      <td>124505240.0</td>\n",
       "    </tr>\n",
       "    <tr>\n",
       "      <th>1995.0</th>\n",
       "      <td>265163745.0</td>\n",
       "      <td>1.240921e+09</td>\n",
       "      <td>162019896.0</td>\n",
       "      <td>34828170.0</td>\n",
       "      <td>126365484.0</td>\n",
       "    </tr>\n",
       "    <tr>\n",
       "      <th>2000.0</th>\n",
       "      <td>281710909.0</td>\n",
       "      <td>1.290551e+09</td>\n",
       "      <td>174790340.0</td>\n",
       "      <td>36870787.0</td>\n",
       "      <td>127524174.0</td>\n",
       "    </tr>\n",
       "    <tr>\n",
       "      <th>2005.0</th>\n",
       "      <td>294993511.0</td>\n",
       "      <td>1.330776e+09</td>\n",
       "      <td>186127103.0</td>\n",
       "      <td>38892931.0</td>\n",
       "      <td>128326116.0</td>\n",
       "    </tr>\n",
       "    <tr>\n",
       "      <th>2010.0</th>\n",
       "      <td>309011475.0</td>\n",
       "      <td>1.368811e+09</td>\n",
       "      <td>195713635.0</td>\n",
       "      <td>40895752.0</td>\n",
       "      <td>128542353.0</td>\n",
       "    </tr>\n",
       "    <tr>\n",
       "      <th>2015.0</th>\n",
       "      <td>320878310.0</td>\n",
       "      <td>1.406848e+09</td>\n",
       "      <td>204471769.0</td>\n",
       "      <td>43075416.0</td>\n",
       "      <td>127985133.0</td>\n",
       "    </tr>\n",
       "    <tr>\n",
       "      <th>2016.0</th>\n",
       "      <td>323015995.0</td>\n",
       "      <td>1.414049e+09</td>\n",
       "      <td>206163053.0</td>\n",
       "      <td>43508460.0</td>\n",
       "      <td>127763265.0</td>\n",
       "    </tr>\n",
       "    <tr>\n",
       "      <th>2017.0</th>\n",
       "      <td>325084756.0</td>\n",
       "      <td>1.421022e+09</td>\n",
       "      <td>207833823.0</td>\n",
       "      <td>43937140.0</td>\n",
       "      <td>127502725.0</td>\n",
       "    </tr>\n",
       "    <tr>\n",
       "      <th>2018.0</th>\n",
       "      <td>327096265.0</td>\n",
       "      <td>1.427648e+09</td>\n",
       "      <td>209469323.0</td>\n",
       "      <td>44361150.0</td>\n",
       "      <td>127202192.0</td>\n",
       "    </tr>\n",
       "    <tr>\n",
       "      <th>2019.0</th>\n",
       "      <td>329064917.0</td>\n",
       "      <td>1.433784e+09</td>\n",
       "      <td>211049527.0</td>\n",
       "      <td>44780677.0</td>\n",
       "      <td>126860301.0</td>\n",
       "    </tr>\n",
       "    <tr>\n",
       "      <th>2020.0</th>\n",
       "      <td>331002651.0</td>\n",
       "      <td>1.439324e+09</td>\n",
       "      <td>212559417.0</td>\n",
       "      <td>45195774.0</td>\n",
       "      <td>126476461.0</td>\n",
       "    </tr>\n",
       "  </tbody>\n",
       "</table>\n",
       "</div>"
      ],
      "text/plain": [
       "country  United States         China       Brazil   Argentina        Japan\n",
       "year                                                                      \n",
       "1955.0     171685336.0  6.122416e+08   62533919.0  18789418.0   89018257.0\n",
       "1960.0     186720571.0  6.604081e+08   72179226.0  20481779.0   93673615.0\n",
       "1965.0     199733676.0  7.242190e+08   83373530.0  22159650.0   98447002.0\n",
       "1970.0     209513341.0  8.276014e+08   95113265.0  23880561.0  104929251.0\n",
       "1975.0     219081251.0  9.262409e+08  107216205.0  25865776.0  112413359.0\n",
       "1980.0     229476354.0  1.000089e+09  120694009.0  27896528.0  117816940.0\n",
       "1985.0     240499825.0  1.075589e+09  135274080.0  30216279.0  121883482.0\n",
       "1990.0     252120309.0  1.176884e+09  149003223.0  32618651.0  124505240.0\n",
       "1995.0     265163745.0  1.240921e+09  162019896.0  34828170.0  126365484.0\n",
       "2000.0     281710909.0  1.290551e+09  174790340.0  36870787.0  127524174.0\n",
       "2005.0     294993511.0  1.330776e+09  186127103.0  38892931.0  128326116.0\n",
       "2010.0     309011475.0  1.368811e+09  195713635.0  40895752.0  128542353.0\n",
       "2015.0     320878310.0  1.406848e+09  204471769.0  43075416.0  127985133.0\n",
       "2016.0     323015995.0  1.414049e+09  206163053.0  43508460.0  127763265.0\n",
       "2017.0     325084756.0  1.421022e+09  207833823.0  43937140.0  127502725.0\n",
       "2018.0     327096265.0  1.427648e+09  209469323.0  44361150.0  127202192.0\n",
       "2019.0     329064917.0  1.433784e+09  211049527.0  44780677.0  126860301.0\n",
       "2020.0     331002651.0  1.439324e+09  212559417.0  45195774.0  126476461.0"
      ]
     },
     "execution_count": 9,
     "metadata": {},
     "output_type": "execute_result"
    }
   ],
   "source": [
    "df_pivot"
   ]
  },
  {
   "cell_type": "markdown",
   "id": "62790995",
   "metadata": {},
   "source": [
    "**Visualization**"
   ]
  },
  {
   "cell_type": "code",
   "execution_count": 10,
   "id": "d9b77a7c",
   "metadata": {},
   "outputs": [
    {
     "data": {
      "text/plain": [
       "<Axes: title={'center': 'Población 1995-2020'}, xlabel='Año', ylabel='Población'>"
      ]
     },
     "execution_count": 10,
     "metadata": {},
     "output_type": "execute_result"
    },
    {
     "data": {
      "image/png": "[encoded data removed]",
      "text/plain": [
       "<Figure size 800x400 with 1 Axes>"
      ]
     },
     "metadata": {},
     "output_type": "display_data"
    }
   ],
   "source": [
    "#Lineplot(Gráfico de línea)\n",
    "df_pivot.plot(\n",
    "    kind='line', \n",
    "    xlabel='Año', \n",
    "    ylabel='Población',\n",
    "    title='Población 1995-2020',\n",
    "    figsize=(8, 4)\n",
    "    )"
   ]
  },
  {
   "cell_type": "code",
   "execution_count": 11,
   "id": "7c005bbc",
   "metadata": {},
   "outputs": [
    {
     "data": {
      "text/html": [
       "<div>\n",
       "<style scoped>\n",
       "    .dataframe tbody tr th:only-of-type {\n",
       "        vertical-align: middle;\n",
       "    }\n",
       "\n",
       "    .dataframe tbody tr th {\n",
       "        vertical-align: top;\n",
       "    }\n",
       "\n",
       "    .dataframe thead th {\n",
       "        text-align: right;\n",
       "    }\n",
       "</style>\n",
       "<table border=\"1\" class=\"dataframe\">\n",
       "  <thead>\n",
       "    <tr style=\"text-align: right;\">\n",
       "      <th>country</th>\n",
       "      <th>United States</th>\n",
       "      <th>China</th>\n",
       "      <th>Brazil</th>\n",
       "      <th>Argentina</th>\n",
       "      <th>Japan</th>\n",
       "    </tr>\n",
       "    <tr>\n",
       "      <th>year</th>\n",
       "      <th></th>\n",
       "      <th></th>\n",
       "      <th></th>\n",
       "      <th></th>\n",
       "      <th></th>\n",
       "    </tr>\n",
       "  </thead>\n",
       "  <tbody>\n",
       "    <tr>\n",
       "      <th>2020.0</th>\n",
       "      <td>331002651.0</td>\n",
       "      <td>1.439324e+09</td>\n",
       "      <td>212559417.0</td>\n",
       "      <td>45195774.0</td>\n",
       "      <td>126476461.0</td>\n",
       "    </tr>\n",
       "  </tbody>\n",
       "</table>\n",
       "</div>"
      ],
      "text/plain": [
       "country  United States         China       Brazil   Argentina        Japan\n",
       "year                                                                      \n",
       "2020.0     331002651.0  1.439324e+09  212559417.0  45195774.0  126476461.0"
      ]
     },
     "execution_count": 11,
     "metadata": {},
     "output_type": "execute_result"
    }
   ],
   "source": [
    "#BarPlots with only year 2020\n",
    "df_2020 = df_pivot[df_pivot.index.isin([2020])]\n",
    "df_pivot[df_pivot.index.isin([2020])]"
   ]
  },
  {
   "cell_type": "code",
   "execution_count": 12,
   "id": "dd495be0",
   "metadata": {},
   "outputs": [],
   "source": [
    "#transpose a data frame (changing rows and columns)\n",
    "df_2020 = df_2020.T"
   ]
  },
  {
   "cell_type": "code",
   "execution_count": 13,
   "id": "556cd6fa",
   "metadata": {},
   "outputs": [
    {
     "data": {
      "text/plain": [
       "<Axes: title={'center': 'Población 2020'}, xlabel='Años', ylabel='Población'>"
      ]
     },
     "execution_count": 13,
     "metadata": {},
     "output_type": "execute_result"
    },
    {
     "data": {
      "image/png": "[encoded data removed]",
      "text/plain": [
       "<Figure size 640x480 with 1 Axes>"
      ]
     },
     "metadata": {},
     "output_type": "display_data"
    }
   ],
   "source": [
    "#Make Barplot\n",
    "df_2020.plot(\n",
    "    kind='bar', \n",
    "    color='green',\n",
    "    xlabel='Años',\n",
    "    ylabel='Población',\n",
    "    title='Población 2020'\n",
    "    )"
   ]
  },
  {
   "cell_type": "markdown",
   "id": "abce96da",
   "metadata": {},
   "source": [
    "**Barplot Agrupado**"
   ]
  },
  {
   "cell_type": "code",
   "execution_count": 14,
   "id": "fd2f9c31",
   "metadata": {},
   "outputs": [],
   "source": [
    "df_years = df_pivot[df_pivot.index.isin([1980, 1990, 2000, 2010, 2020])]"
   ]
  },
  {
   "cell_type": "code",
   "execution_count": 15,
   "id": "517843ec",
   "metadata": {},
   "outputs": [
    {
     "data": {
      "text/plain": [
       "<Axes: xlabel='year'>"
      ]
     },
     "execution_count": 15,
     "metadata": {},
     "output_type": "execute_result"
    },
    {
     "data": {
      "image/png": "[encoded data removed]",
      "text/plain": [
       "<Figure size 640x480 with 1 Axes>"
      ]
     },
     "metadata": {},
     "output_type": "display_data"
    }
   ],
   "source": [
    "#group barplots\n",
    "df_years.plot(kind='bar')"
   ]
  },
  {
   "cell_type": "markdown",
   "id": "6ca96e26",
   "metadata": {},
   "source": [
    "**Pie Chart**"
   ]
  },
  {
   "cell_type": "code",
   "execution_count": 37,
   "id": "3973773c",
   "metadata": {},
   "outputs": [
    {
     "data": {
      "text/html": [
       "<div>\n",
       "<style scoped>\n",
       "    .dataframe tbody tr th:only-of-type {\n",
       "        vertical-align: middle;\n",
       "    }\n",
       "\n",
       "    .dataframe tbody tr th {\n",
       "        vertical-align: top;\n",
       "    }\n",
       "\n",
       "    .dataframe thead th {\n",
       "        text-align: right;\n",
       "    }\n",
       "</style>\n",
       "<table border=\"1\" class=\"dataframe\">\n",
       "  <thead>\n",
       "    <tr style=\"text-align: right;\">\n",
       "      <th>country</th>\n",
       "      <th>Afghanistan</th>\n",
       "      <th>Albania</th>\n",
       "      <th>Algeria</th>\n",
       "      <th>American Samoa</th>\n",
       "      <th>Andorra</th>\n",
       "      <th>Angola</th>\n",
       "      <th>Anguilla</th>\n",
       "      <th>Antigua and Barbuda</th>\n",
       "      <th>Argentina</th>\n",
       "      <th>Armenia</th>\n",
       "      <th>...</th>\n",
       "      <th>Uruguay</th>\n",
       "      <th>Uzbekistan</th>\n",
       "      <th>Vanuatu</th>\n",
       "      <th>Venezuela</th>\n",
       "      <th>Vietnam</th>\n",
       "      <th>Wallis &amp; Futuna</th>\n",
       "      <th>Western Sahara</th>\n",
       "      <th>Yemen</th>\n",
       "      <th>Zambia</th>\n",
       "      <th>Zimbabwe</th>\n",
       "    </tr>\n",
       "    <tr>\n",
       "      <th>year</th>\n",
       "      <th></th>\n",
       "      <th></th>\n",
       "      <th></th>\n",
       "      <th></th>\n",
       "      <th></th>\n",
       "      <th></th>\n",
       "      <th></th>\n",
       "      <th></th>\n",
       "      <th></th>\n",
       "      <th></th>\n",
       "      <th></th>\n",
       "      <th></th>\n",
       "      <th></th>\n",
       "      <th></th>\n",
       "      <th></th>\n",
       "      <th></th>\n",
       "      <th></th>\n",
       "      <th></th>\n",
       "      <th></th>\n",
       "      <th></th>\n",
       "      <th></th>\n",
       "    </tr>\n",
       "  </thead>\n",
       "  <tbody>\n",
       "    <tr>\n",
       "      <th>2020.0</th>\n",
       "      <td>38928346.0</td>\n",
       "      <td>2877797.0</td>\n",
       "      <td>43851044.0</td>\n",
       "      <td>NaN</td>\n",
       "      <td>NaN</td>\n",
       "      <td>32866272.0</td>\n",
       "      <td>NaN</td>\n",
       "      <td>97929.0</td>\n",
       "      <td>45195774.0</td>\n",
       "      <td>2963243.0</td>\n",
       "      <td>...</td>\n",
       "      <td>3473730.0</td>\n",
       "      <td>33469203.0</td>\n",
       "      <td>307145.0</td>\n",
       "      <td>28435940.0</td>\n",
       "      <td>97338579.0</td>\n",
       "      <td>NaN</td>\n",
       "      <td>597339.0</td>\n",
       "      <td>29825964.0</td>\n",
       "      <td>18383955.0</td>\n",
       "      <td>14862924.0</td>\n",
       "    </tr>\n",
       "  </tbody>\n",
       "</table>\n",
       "<p>1 rows × 234 columns</p>\n",
       "</div>"
      ],
      "text/plain": [
       "country  Afghanistan    Albania     Algeria  American Samoa  Andorra  \\\n",
       "year                                                                   \n",
       "2020.0    38928346.0  2877797.0  43851044.0             NaN      NaN   \n",
       "\n",
       "country      Angola  Anguilla  Antigua and Barbuda   Argentina    Armenia  \\\n",
       "year                                                                        \n",
       "2020.0   32866272.0       NaN              97929.0  45195774.0  2963243.0   \n",
       "\n",
       "country  ...    Uruguay  Uzbekistan   Vanuatu   Venezuela     Vietnam  \\\n",
       "year     ...                                                            \n",
       "2020.0   ...  3473730.0  33469203.0  307145.0  28435940.0  97338579.0   \n",
       "\n",
       "country  Wallis & Futuna  Western Sahara       Yemen      Zambia    Zimbabwe  \n",
       "year                                                                          \n",
       "2020.0               NaN        597339.0  29825964.0  18383955.0  14862924.0  \n",
       "\n",
       "[1 rows x 234 columns]"
      ]
     },
     "execution_count": 37,
     "metadata": {},
     "output_type": "execute_result"
    }
   ],
   "source": [
    "#define variable pivot\n",
    "df_pie = df_population_raw.pivot_table(\n",
    "    index='year',\n",
    "    columns='country',\n",
    "    values='population'\n",
    ") \n",
    "df_pie_2020 = df_pie[df_pie.index.isin([2020])]\n",
    "df_pie_2020[df_pie_2020.index.isin([2020])]"
   ]
  },
  {
   "cell_type": "code",
   "execution_count": 42,
   "id": "5ddab967",
   "metadata": {},
   "outputs": [],
   "source": [
    "#change name of the column (type)\n",
    "df_pie_2020.rename(columns={2020:'2020'}, inplace=True)"
   ]
  },
  {
   "cell_type": "code",
   "execution_count": 43,
   "id": "c7cbd928",
   "metadata": {},
   "outputs": [
    {
     "ename": "KeyError",
     "evalue": "'2020'",
     "output_type": "error",
     "traceback": [
      "\u001b[31m---------------------------------------------------------------------------\u001b[39m",
      "\u001b[31mKeyError\u001b[39m                                  Traceback (most recent call last)",
      "\u001b[36mFile \u001b[39m\u001b[32mc:\\Users\\Seidor\\Desktop\\Python\\.venv\\Lib\\site-packages\\pandas\\core\\indexes\\base.py:3812\u001b[39m, in \u001b[36mIndex.get_loc\u001b[39m\u001b[34m(self, key)\u001b[39m\n\u001b[32m   3811\u001b[39m \u001b[38;5;28;01mtry\u001b[39;00m:\n\u001b[32m-> \u001b[39m\u001b[32m3812\u001b[39m     \u001b[38;5;28;01mreturn\u001b[39;00m \u001b[38;5;28;43mself\u001b[39;49m\u001b[43m.\u001b[49m\u001b[43m_engine\u001b[49m\u001b[43m.\u001b[49m\u001b[43mget_loc\u001b[49m\u001b[43m(\u001b[49m\u001b[43mcasted_key\u001b[49m\u001b[43m)\u001b[49m\n\u001b[32m   3813\u001b[39m \u001b[38;5;28;01mexcept\u001b[39;00m \u001b[38;5;167;01mKeyError\u001b[39;00m \u001b[38;5;28;01mas\u001b[39;00m err:\n",
      "\u001b[36mFile \u001b[39m\u001b[32mpandas/_libs/index.pyx:167\u001b[39m, in \u001b[36mpandas._libs.index.IndexEngine.get_loc\u001b[39m\u001b[34m()\u001b[39m\n",
      "\u001b[36mFile \u001b[39m\u001b[32mpandas/_libs/index.pyx:196\u001b[39m, in \u001b[36mpandas._libs.index.IndexEngine.get_loc\u001b[39m\u001b[34m()\u001b[39m\n",
      "\u001b[36mFile \u001b[39m\u001b[32mpandas/_libs/hashtable_class_helper.pxi:7088\u001b[39m, in \u001b[36mpandas._libs.hashtable.PyObjectHashTable.get_item\u001b[39m\u001b[34m()\u001b[39m\n",
      "\u001b[36mFile \u001b[39m\u001b[32mpandas/_libs/hashtable_class_helper.pxi:7096\u001b[39m, in \u001b[36mpandas._libs.hashtable.PyObjectHashTable.get_item\u001b[39m\u001b[34m()\u001b[39m\n",
      "\u001b[31mKeyError\u001b[39m: '2020'",
      "\nThe above exception was the direct cause of the following exception:\n",
      "\u001b[31mKeyError\u001b[39m                                  Traceback (most recent call last)",
      "\u001b[36mCell\u001b[39m\u001b[36m \u001b[39m\u001b[32mIn[43]\u001b[39m\u001b[32m, line 3\u001b[39m\n\u001b[32m      1\u001b[39m \u001b[38;5;66;03m# pie graph\u001b[39;00m\n\u001b[32m      2\u001b[39m df_pie_2020 = df_pie_2020.T  \u001b[38;5;66;03m# Transpose so countries are the index\u001b[39;00m\n\u001b[32m----> \u001b[39m\u001b[32m3\u001b[39m \u001b[43mdf_pie_2020\u001b[49m\u001b[43m.\u001b[49m\u001b[43mplot\u001b[49m\u001b[43m(\u001b[49m\u001b[43mkind\u001b[49m\u001b[43m=\u001b[49m\u001b[33;43m'\u001b[39;49m\u001b[33;43mpie\u001b[39;49m\u001b[33;43m'\u001b[39;49m\u001b[43m,\u001b[49m\u001b[43m \u001b[49m\u001b[43my\u001b[49m\u001b[43m=\u001b[49m\u001b[33;43m'\u001b[39;49m\u001b[33;43m2020\u001b[39;49m\u001b[33;43m'\u001b[39;49m\u001b[43m,\u001b[49m\u001b[43m \u001b[49m\u001b[43mlegend\u001b[49m\u001b[43m=\u001b[49m\u001b[38;5;28;43;01mFalse\u001b[39;49;00m\u001b[43m,\u001b[49m\u001b[43m \u001b[49m\u001b[43mtitle\u001b[49m\u001b[43m=\u001b[49m\u001b[33;43m'\u001b[39;49m\u001b[33;43mPopulation Distribution 2020\u001b[39;49m\u001b[33;43m'\u001b[39;49m\u001b[43m)\u001b[49m\n",
      "\u001b[36mFile \u001b[39m\u001b[32mc:\\Users\\Seidor\\Desktop\\Python\\.venv\\Lib\\site-packages\\pandas\\plotting\\_core.py:988\u001b[39m, in \u001b[36mPlotAccessor.__call__\u001b[39m\u001b[34m(self, *args, **kwargs)\u001b[39m\n\u001b[32m    986\u001b[39m                 y = data.columns[y]\n\u001b[32m    987\u001b[39m             \u001b[38;5;66;03m# converted to series actually. copy to not modify\u001b[39;00m\n\u001b[32m--> \u001b[39m\u001b[32m988\u001b[39m             data = \u001b[43mdata\u001b[49m\u001b[43m[\u001b[49m\u001b[43my\u001b[49m\u001b[43m]\u001b[49m.copy()\n\u001b[32m    989\u001b[39m             data.index.name = y\n\u001b[32m    990\u001b[39m \u001b[38;5;28;01melif\u001b[39;00m \u001b[38;5;28misinstance\u001b[39m(data, ABCDataFrame):\n",
      "\u001b[36mFile \u001b[39m\u001b[32mc:\\Users\\Seidor\\Desktop\\Python\\.venv\\Lib\\site-packages\\pandas\\core\\frame.py:4113\u001b[39m, in \u001b[36mDataFrame.__getitem__\u001b[39m\u001b[34m(self, key)\u001b[39m\n\u001b[32m   4111\u001b[39m \u001b[38;5;28;01mif\u001b[39;00m \u001b[38;5;28mself\u001b[39m.columns.nlevels > \u001b[32m1\u001b[39m:\n\u001b[32m   4112\u001b[39m     \u001b[38;5;28;01mreturn\u001b[39;00m \u001b[38;5;28mself\u001b[39m._getitem_multilevel(key)\n\u001b[32m-> \u001b[39m\u001b[32m4113\u001b[39m indexer = \u001b[38;5;28;43mself\u001b[39;49m\u001b[43m.\u001b[49m\u001b[43mcolumns\u001b[49m\u001b[43m.\u001b[49m\u001b[43mget_loc\u001b[49m\u001b[43m(\u001b[49m\u001b[43mkey\u001b[49m\u001b[43m)\u001b[49m\n\u001b[32m   4114\u001b[39m \u001b[38;5;28;01mif\u001b[39;00m is_integer(indexer):\n\u001b[32m   4115\u001b[39m     indexer = [indexer]\n",
      "\u001b[36mFile \u001b[39m\u001b[32mc:\\Users\\Seidor\\Desktop\\Python\\.venv\\Lib\\site-packages\\pandas\\core\\indexes\\base.py:3819\u001b[39m, in \u001b[36mIndex.get_loc\u001b[39m\u001b[34m(self, key)\u001b[39m\n\u001b[32m   3814\u001b[39m     \u001b[38;5;28;01mif\u001b[39;00m \u001b[38;5;28misinstance\u001b[39m(casted_key, \u001b[38;5;28mslice\u001b[39m) \u001b[38;5;129;01mor\u001b[39;00m (\n\u001b[32m   3815\u001b[39m         \u001b[38;5;28misinstance\u001b[39m(casted_key, abc.Iterable)\n\u001b[32m   3816\u001b[39m         \u001b[38;5;129;01mand\u001b[39;00m \u001b[38;5;28many\u001b[39m(\u001b[38;5;28misinstance\u001b[39m(x, \u001b[38;5;28mslice\u001b[39m) \u001b[38;5;28;01mfor\u001b[39;00m x \u001b[38;5;129;01min\u001b[39;00m casted_key)\n\u001b[32m   3817\u001b[39m     ):\n\u001b[32m   3818\u001b[39m         \u001b[38;5;28;01mraise\u001b[39;00m InvalidIndexError(key)\n\u001b[32m-> \u001b[39m\u001b[32m3819\u001b[39m     \u001b[38;5;28;01mraise\u001b[39;00m \u001b[38;5;167;01mKeyError\u001b[39;00m(key) \u001b[38;5;28;01mfrom\u001b[39;00m\u001b[38;5;250m \u001b[39m\u001b[34;01merr\u001b[39;00m\n\u001b[32m   3820\u001b[39m \u001b[38;5;28;01mexcept\u001b[39;00m \u001b[38;5;167;01mTypeError\u001b[39;00m:\n\u001b[32m   3821\u001b[39m     \u001b[38;5;66;03m# If we have a listlike key, _check_indexing_error will raise\u001b[39;00m\n\u001b[32m   3822\u001b[39m     \u001b[38;5;66;03m#  InvalidIndexError. Otherwise we fall through and re-raise\u001b[39;00m\n\u001b[32m   3823\u001b[39m     \u001b[38;5;66;03m#  the TypeError.\u001b[39;00m\n\u001b[32m   3824\u001b[39m     \u001b[38;5;28mself\u001b[39m._check_indexing_error(key)\n",
      "\u001b[31mKeyError\u001b[39m: '2020'"
     ]
    }
   ],
   "source": [
    "# pie graph\n",
    "df_pie_2020 = df_pie_2020.T  # Transpose so countries are the index\n",
    "df_pie_2020.plot(kind='pie', y='2020', legend=False, title='Population Distribution 2020')"
   ]
  },
  {
   "cell_type": "markdown",
   "id": "76277258",
   "metadata": {},
   "source": [
    "***BoxPlot***"
   ]
  },
  {
   "cell_type": "code",
   "execution_count": 45,
   "id": "9a7b3bbd",
   "metadata": {},
   "outputs": [
    {
     "data": {
      "text/html": [
       "<div>\n",
       "<style scoped>\n",
       "    .dataframe tbody tr th:only-of-type {\n",
       "        vertical-align: middle;\n",
       "    }\n",
       "\n",
       "    .dataframe tbody tr th {\n",
       "        vertical-align: top;\n",
       "    }\n",
       "\n",
       "    .dataframe thead th {\n",
       "        text-align: right;\n",
       "    }\n",
       "</style>\n",
       "<table border=\"1\" class=\"dataframe\">\n",
       "  <thead>\n",
       "    <tr style=\"text-align: right;\">\n",
       "      <th>country</th>\n",
       "      <th>United States</th>\n",
       "      <th>China</th>\n",
       "      <th>Brazil</th>\n",
       "      <th>Argentina</th>\n",
       "      <th>Japan</th>\n",
       "    </tr>\n",
       "    <tr>\n",
       "      <th>year</th>\n",
       "      <th></th>\n",
       "      <th></th>\n",
       "      <th></th>\n",
       "      <th></th>\n",
       "      <th></th>\n",
       "    </tr>\n",
       "  </thead>\n",
       "  <tbody>\n",
       "    <tr>\n",
       "      <th>1955.0</th>\n",
       "      <td>171685336.0</td>\n",
       "      <td>6.122416e+08</td>\n",
       "      <td>62533919.0</td>\n",
       "      <td>18789418.0</td>\n",
       "      <td>89018257.0</td>\n",
       "    </tr>\n",
       "    <tr>\n",
       "      <th>1960.0</th>\n",
       "      <td>186720571.0</td>\n",
       "      <td>6.604081e+08</td>\n",
       "      <td>72179226.0</td>\n",
       "      <td>20481779.0</td>\n",
       "      <td>93673615.0</td>\n",
       "    </tr>\n",
       "    <tr>\n",
       "      <th>1965.0</th>\n",
       "      <td>199733676.0</td>\n",
       "      <td>7.242190e+08</td>\n",
       "      <td>83373530.0</td>\n",
       "      <td>22159650.0</td>\n",
       "      <td>98447002.0</td>\n",
       "    </tr>\n",
       "    <tr>\n",
       "      <th>1970.0</th>\n",
       "      <td>209513341.0</td>\n",
       "      <td>8.276014e+08</td>\n",
       "      <td>95113265.0</td>\n",
       "      <td>23880561.0</td>\n",
       "      <td>104929251.0</td>\n",
       "    </tr>\n",
       "    <tr>\n",
       "      <th>1975.0</th>\n",
       "      <td>219081251.0</td>\n",
       "      <td>9.262409e+08</td>\n",
       "      <td>107216205.0</td>\n",
       "      <td>25865776.0</td>\n",
       "      <td>112413359.0</td>\n",
       "    </tr>\n",
       "    <tr>\n",
       "      <th>1980.0</th>\n",
       "      <td>229476354.0</td>\n",
       "      <td>1.000089e+09</td>\n",
       "      <td>120694009.0</td>\n",
       "      <td>27896528.0</td>\n",
       "      <td>117816940.0</td>\n",
       "    </tr>\n",
       "    <tr>\n",
       "      <th>1985.0</th>\n",
       "      <td>240499825.0</td>\n",
       "      <td>1.075589e+09</td>\n",
       "      <td>135274080.0</td>\n",
       "      <td>30216279.0</td>\n",
       "      <td>121883482.0</td>\n",
       "    </tr>\n",
       "    <tr>\n",
       "      <th>1990.0</th>\n",
       "      <td>252120309.0</td>\n",
       "      <td>1.176884e+09</td>\n",
       "      <td>149003223.0</td>\n",
       "      <td>32618651.0</td>\n",
       "      <td>124505240.0</td>\n",
       "    </tr>\n",
       "    <tr>\n",
       "      <th>1995.0</th>\n",
       "      <td>265163745.0</td>\n",
       "      <td>1.240921e+09</td>\n",
       "      <td>162019896.0</td>\n",
       "      <td>34828170.0</td>\n",
       "      <td>126365484.0</td>\n",
       "    </tr>\n",
       "    <tr>\n",
       "      <th>2000.0</th>\n",
       "      <td>281710909.0</td>\n",
       "      <td>1.290551e+09</td>\n",
       "      <td>174790340.0</td>\n",
       "      <td>36870787.0</td>\n",
       "      <td>127524174.0</td>\n",
       "    </tr>\n",
       "    <tr>\n",
       "      <th>2005.0</th>\n",
       "      <td>294993511.0</td>\n",
       "      <td>1.330776e+09</td>\n",
       "      <td>186127103.0</td>\n",
       "      <td>38892931.0</td>\n",
       "      <td>128326116.0</td>\n",
       "    </tr>\n",
       "    <tr>\n",
       "      <th>2010.0</th>\n",
       "      <td>309011475.0</td>\n",
       "      <td>1.368811e+09</td>\n",
       "      <td>195713635.0</td>\n",
       "      <td>40895752.0</td>\n",
       "      <td>128542353.0</td>\n",
       "    </tr>\n",
       "    <tr>\n",
       "      <th>2015.0</th>\n",
       "      <td>320878310.0</td>\n",
       "      <td>1.406848e+09</td>\n",
       "      <td>204471769.0</td>\n",
       "      <td>43075416.0</td>\n",
       "      <td>127985133.0</td>\n",
       "    </tr>\n",
       "    <tr>\n",
       "      <th>2016.0</th>\n",
       "      <td>323015995.0</td>\n",
       "      <td>1.414049e+09</td>\n",
       "      <td>206163053.0</td>\n",
       "      <td>43508460.0</td>\n",
       "      <td>127763265.0</td>\n",
       "    </tr>\n",
       "    <tr>\n",
       "      <th>2017.0</th>\n",
       "      <td>325084756.0</td>\n",
       "      <td>1.421022e+09</td>\n",
       "      <td>207833823.0</td>\n",
       "      <td>43937140.0</td>\n",
       "      <td>127502725.0</td>\n",
       "    </tr>\n",
       "    <tr>\n",
       "      <th>2018.0</th>\n",
       "      <td>327096265.0</td>\n",
       "      <td>1.427648e+09</td>\n",
       "      <td>209469323.0</td>\n",
       "      <td>44361150.0</td>\n",
       "      <td>127202192.0</td>\n",
       "    </tr>\n",
       "    <tr>\n",
       "      <th>2019.0</th>\n",
       "      <td>329064917.0</td>\n",
       "      <td>1.433784e+09</td>\n",
       "      <td>211049527.0</td>\n",
       "      <td>44780677.0</td>\n",
       "      <td>126860301.0</td>\n",
       "    </tr>\n",
       "    <tr>\n",
       "      <th>2020.0</th>\n",
       "      <td>331002651.0</td>\n",
       "      <td>1.439324e+09</td>\n",
       "      <td>212559417.0</td>\n",
       "      <td>45195774.0</td>\n",
       "      <td>126476461.0</td>\n",
       "    </tr>\n",
       "  </tbody>\n",
       "</table>\n",
       "</div>"
      ],
      "text/plain": [
       "country  United States         China       Brazil   Argentina        Japan\n",
       "year                                                                      \n",
       "1955.0     171685336.0  6.122416e+08   62533919.0  18789418.0   89018257.0\n",
       "1960.0     186720571.0  6.604081e+08   72179226.0  20481779.0   93673615.0\n",
       "1965.0     199733676.0  7.242190e+08   83373530.0  22159650.0   98447002.0\n",
       "1970.0     209513341.0  8.276014e+08   95113265.0  23880561.0  104929251.0\n",
       "1975.0     219081251.0  9.262409e+08  107216205.0  25865776.0  112413359.0\n",
       "1980.0     229476354.0  1.000089e+09  120694009.0  27896528.0  117816940.0\n",
       "1985.0     240499825.0  1.075589e+09  135274080.0  30216279.0  121883482.0\n",
       "1990.0     252120309.0  1.176884e+09  149003223.0  32618651.0  124505240.0\n",
       "1995.0     265163745.0  1.240921e+09  162019896.0  34828170.0  126365484.0\n",
       "2000.0     281710909.0  1.290551e+09  174790340.0  36870787.0  127524174.0\n",
       "2005.0     294993511.0  1.330776e+09  186127103.0  38892931.0  128326116.0\n",
       "2010.0     309011475.0  1.368811e+09  195713635.0  40895752.0  128542353.0\n",
       "2015.0     320878310.0  1.406848e+09  204471769.0  43075416.0  127985133.0\n",
       "2016.0     323015995.0  1.414049e+09  206163053.0  43508460.0  127763265.0\n",
       "2017.0     325084756.0  1.421022e+09  207833823.0  43937140.0  127502725.0\n",
       "2018.0     327096265.0  1.427648e+09  209469323.0  44361150.0  127202192.0\n",
       "2019.0     329064917.0  1.433784e+09  211049527.0  44780677.0  126860301.0\n",
       "2020.0     331002651.0  1.439324e+09  212559417.0  45195774.0  126476461.0"
      ]
     },
     "execution_count": 45,
     "metadata": {},
     "output_type": "execute_result"
    }
   ],
   "source": [
    "df_pivot"
   ]
  },
  {
   "cell_type": "code",
   "execution_count": 50,
   "id": "15a8266a",
   "metadata": {},
   "outputs": [
    {
     "data": {
      "text/plain": [
       "<Axes: title={'center': 'Box Plot of United States Population'}, ylabel='Population'>"
      ]
     },
     "execution_count": 50,
     "metadata": {},
     "output_type": "execute_result"
    },
    {
     "data": {
      "image/png": "[encoded data removed]",
      "text/plain": [
       "<Figure size 640x480 with 1 Axes>"
      ]
     },
     "metadata": {},
     "output_type": "display_data"
    }
   ],
   "source": [
    "#Only BoxPlot\n",
    "df_pivot['United States'].plot(kind='box', title='Box Plot of United States Population', color='green', ylabel='Population')"
   ]
  },
  {
   "cell_type": "code",
   "execution_count": 51,
   "id": "017b21f7",
   "metadata": {},
   "outputs": [
    {
     "data": {
      "text/plain": [
       "<Axes: title={'center': 'Box Plot of Population by Country'}, ylabel='Population'>"
      ]
     },
     "execution_count": 51,
     "metadata": {},
     "output_type": "execute_result"
    },
    {
     "data": {
      "image/png": "[encoded data removed]",
      "text/plain": [
       "<Figure size 640x480 with 1 Axes>"
      ]
     },
     "metadata": {},
     "output_type": "display_data"
    }
   ],
   "source": [
    "#Multiple BoxPlot\n",
    "df_pivot.plot(kind='box', title='Box Plot of Population by Country', ylabel='Population', )"
   ]
  },
  {
   "cell_type": "markdown",
   "id": "c4ccc35c",
   "metadata": {},
   "source": [
    "***Histogram***"
   ]
  },
  {
   "cell_type": "code",
   "execution_count": 55,
   "id": "a167e286",
   "metadata": {},
   "outputs": [
    {
     "data": {
      "text/plain": [
       "<Axes: title={'center': 'Histogram of China Population'}, xlabel='Population', ylabel='Frequency'>"
      ]
     },
     "execution_count": 55,
     "metadata": {},
     "output_type": "execute_result"
    },
    {
     "data": {
      "image/png": "[encoded data removed]",
      "text/plain": [
       "<Figure size 640x480 with 1 Axes>"
      ]
     },
     "metadata": {},
     "output_type": "display_data"
    }
   ],
   "source": [
    "df_pivot[['China', 'United States', 'Argentina']].plot(kind='hist', bins=10, title='Histogram of China Population', xlabel='Population', ylabel='Frequency')"
   ]
  },
  {
   "cell_type": "markdown",
   "id": "3d9b752b",
   "metadata": {},
   "source": [
    "***ScatterPlot***"
   ]
  },
  {
   "cell_type": "code",
   "execution_count": null,
   "id": "c09da198",
   "metadata": {},
   "outputs": [],
   "source": [
    "#select elements of the list\n",
    "df_sample = df_population_raw[df_population_raw['country'].isin(['China', 'United States', 'Argentina'])]"
   ]
  },
  {
   "cell_type": "code",
   "execution_count": 64,
   "id": "bf5ce822",
   "metadata": {},
   "outputs": [
    {
     "data": {
      "text/plain": [
       "<Axes: title={'center': 'Population over Years'}, xlabel='year', ylabel='population'>"
      ]
     },
     "execution_count": 64,
     "metadata": {},
     "output_type": "execute_result"
    },
    {
     "data": {
      "image/png": "[encoded data removed]",
      "text/plain": [
       "<Figure size 640x480 with 1 Axes>"
      ]
     },
     "metadata": {},
     "output_type": "display_data"
    }
   ],
   "source": [
    "#Plot\n",
    "df_sample.plot(\n",
    "    kind='scatter',\n",
    "    x='year',\n",
    "    y='population',\n",
    "    title='Population over Years',\n",
    "    s=80,  # size of points\n",
    "\n",
    "    )"
   ]
  }
 ],
 "metadata": {
  "kernelspec": {
   "display_name": ".venv",
   "language": "python",
   "name": "python3"
  },
  "language_info": {
   "codemirror_mode": {
    "name": "ipython",
    "version": 3
   },
   "file_extension": ".py",
   "mimetype": "text/x-python",
   "name": "python",
   "nbconvert_exporter": "python",
   "pygments_lexer": "ipython3",
   "version": "3.13.6"
  }
 },
 "nbformat": 4,
 "nbformat_minor": 5
}
